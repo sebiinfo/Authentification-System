{
  "nbformat": 4,
  "nbformat_minor": 0,
  "metadata": {
    "colab": {
      "provenance": [],
      "authorship_tag": "ABX9TyNWjGXAK3se7Anjnxkf7LAS",
      "include_colab_link": true
    },
    "kernelspec": {
      "name": "python3",
      "display_name": "Python 3"
    },
    "language_info": {
      "name": "python"
    }
  },
  "cells": [
    {
      "cell_type": "markdown",
      "metadata": {
        "id": "view-in-github",
        "colab_type": "text"
      },
      "source": [
        "<a href=\"https://colab.research.google.com/github/sebiinfo/Authentification-System/blob/main/ML_proj.ipynb\" target=\"_parent\"><img src=\"https://colab.research.google.com/assets/colab-badge.svg\" alt=\"Open In Colab\"/></a>"
      ]
    },
    {
      "cell_type": "code",
      "execution_count": null,
      "metadata": {
        "id": "TDKGhzzmRyq0"
      },
      "outputs": [],
      "source": [
        "import numpy as np"
      ]
    },
    {
      "cell_type": "markdown",
      "source": [
        "https://towardsdatascience.com/machine-learning-text-processing-1d5a2d638958 "
      ],
      "metadata": {
        "id": "6gqEgHqmcJN-"
      }
    },
    {
      "cell_type": "markdown",
      "source": [
        "# NLP text matching of different authors\n",
        "\n"
      ],
      "metadata": {
        "id": "oiuyeXjYSNW_"
      }
    },
    {
      "cell_type": "code",
      "source": [],
      "metadata": {
        "id": "ej_Dq1cXcH7q"
      },
      "execution_count": null,
      "outputs": []
    }
  ]
}